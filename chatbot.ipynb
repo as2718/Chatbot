{
 "cells": [
  {
   "cell_type": "code",
   "execution_count": 11,
   "id": "ce49b13e",
   "metadata": {},
   "outputs": [
    {
     "name": "stdout",
     "output_type": "stream",
     "text": [
      "1/1 [==============================] - 0s 81ms/step\n"
     ]
    }
   ],
   "source": [
    "import nltk\n",
    "from nltk.stem import WordNetLemmatizer\n",
    "lemmatizer = WordNetLemmatizer()\n",
    "import pickle\n",
    "import numpy as np\n",
    "from keras.models import load_model\n",
    "model = load_model('chatbot_model.h5')\n",
    "import json\n",
    "import random\n",
    "intents = json.loads(open('intents.json').read())\n",
    "words = pickle.load(open('words.pkl','rb'))\n",
    "classes = pickle.load(open('classes.pkl','rb'))\n",
    "\n",
    "def clean_up_sentence(sentence):\n",
    "    sentence_words = nltk.word_tokenize(sentence)\n",
    "    sentence_words = [lemmatizer.lemmatize(word.lower()) for word in sentence_words]\n",
    "    return sentence_words\n",
    "# return bag of words array: 0 or 1 for words that exist in sentence\n",
    "\n",
    "\n",
    "def bag_of_words(sentence, words, show_details=True):\n",
    "  # tokenizing patterns\n",
    "  sentence_words = clean_up_sentence(sentence)\n",
    "  # bag of words - vocabulary matrix\n",
    "  bag = [0]*len(words)\n",
    "  for s in sentence_words:\n",
    "    for i,word in enumerate(words):\n",
    "      if word == s:\n",
    "        # assign 1 if current word is in the vocabulary position\n",
    "        bag[i] = 1\n",
    "        if show_details:\n",
    "          print (\"found in bag: %s\" % word)\n",
    "  return(np.array(bag))\n",
    "\n",
    "\n",
    "def predict_class(sentence):\n",
    "  # filter below threshold predictions\n",
    "  p = bag_of_words(sentence, words,show_details=False)\n",
    "  res = model.predict(np.array([p]))[0]\n",
    "  ERROR_THRESHOLD = 0.25\n",
    "  results = [[i,r] for i,r in enumerate(res) if r>ERROR_THRESHOLD]\n",
    "\n",
    "  # sorting strength probability\n",
    "\n",
    "  results.sort(key=lambda x: x[1], reverse=True)\n",
    "  return_list = []\n",
    "  for r in results:\n",
    "    return_list.append({\"intent\": classes[r[0]], \"probability\": str(r[1])})\n",
    "  return return_list\n",
    "\n",
    "\n",
    "def getResponse(ints, intents_json):\n",
    "  tag = ints[0]['intent']\n",
    "  list_of_intents = intents_json['intents']\n",
    "  for i in list_of_intents:\n",
    "    if(i['tag']== tag):\n",
    "      result = random.choice(i['responses'])\n",
    "      break\n",
    "  return result\n",
    "\n",
    "\n",
    "#Creating tkinter GUI\n",
    "\n",
    "import tkinter\n",
    "from tkinter import *\n",
    "\n",
    "def send():\n",
    "  msg = EntryBox.get(\"1.0\",'end-1c').strip()\n",
    "  EntryBox.delete(\"0.0\",END)\n",
    "  if msg != '':\n",
    "    ChatBox.config(state=NORMAL)\n",
    "    ChatBox.insert(END, \"You: \" + msg + '\\n\\n')\n",
    "    ChatBox.config(foreground=\"#446665\", font=(\"Verdana\", 12 ))\n",
    "    ints = predict_class(msg)\n",
    "    res = getResponse(ints, intents)\n",
    "    ChatBox.insert(END, \"Bot: \" + res + '\\n\\n')    \n",
    "    ChatBox.config(state=DISABLED)\n",
    "    ChatBox.yview(END)\n",
    "\n",
    "\n",
    "root = Tk()\n",
    "root.title(\"Chatbot\")\n",
    "root.geometry(\"400x500\")\n",
    "root.resizable(width=FALSE, height=FALSE)\n",
    "\n",
    "\n",
    "#Create Chat window\n",
    "\n",
    "ChatBox = Text(root, bd=0, bg=\"white\", height=\"8\", width=\"50\", font=\"Arial\",)\n",
    "ChatBox.config(state=DISABLED)\n",
    "\n",
    "\n",
    "#Bind scrollbar to Chat window\n",
    "\n",
    "scrollbar = Scrollbar(root, command=ChatBox.yview, cursor=\"heart\")\n",
    "ChatBox['yscrollcommand'] = scrollbar.set\n",
    "\n",
    "\n",
    "#Create Button to send message\n",
    "\n",
    "SendButton = Button(root, font=(\"Verdana\",12,'bold'), text=\"Send\", width=\"12\", height=5,bd=0, bg=\"#f9a602\", activebackground=\"#3c9d9b\",fg='#000000',command= send )\n",
    "\n",
    "\n",
    "#Create the box to enter message\n",
    "\n",
    "EntryBox = Text(root, bd=0, bg=\"white\",width=\"29\", height=\"5\", font=\"Arial\")\n",
    "\n",
    "#EntryBox.bind(\"<Return>\", send)\n",
    "\n",
    "\n",
    "#Place all components on the screen\n",
    "\n",
    "scrollbar.place(x=376,y=6, height=386)\n",
    "ChatBox.place(x=6,y=6, height=386, width=370)\n",
    "EntryBox.place(x=128, y=401, height=90, width=265)\n",
    "SendButton.place(x=6, y=401, height=90)\n",
    "\n",
    "\n",
    "root.mainloop()"
   ]
  },
  {
   "cell_type": "code",
   "execution_count": 10,
   "id": "d93f2dde",
   "metadata": {},
   "outputs": [
    {
     "name": "stderr",
     "output_type": "stream",
     "text": [
      "[nltk_data] Downloading package wordnet to C:\\Users\\Abhishek\n",
      "[nltk_data]     Srivastav\\AppData\\Roaming\\nltk_data...\n"
     ]
    },
    {
     "data": {
      "text/plain": [
       "True"
      ]
     },
     "execution_count": 10,
     "metadata": {},
     "output_type": "execute_result"
    }
   ],
   "source": [
    "nltk.download('wordnet')"
   ]
  }
 ],
 "metadata": {
  "kernelspec": {
   "display_name": "Python 3 (ipykernel)",
   "language": "python",
   "name": "python3"
  },
  "language_info": {
   "codemirror_mode": {
    "name": "ipython",
    "version": 3
   },
   "file_extension": ".py",
   "mimetype": "text/x-python",
   "name": "python",
   "nbconvert_exporter": "python",
   "pygments_lexer": "ipython3",
   "version": "3.11.5"
  }
 },
 "nbformat": 4,
 "nbformat_minor": 5
}
